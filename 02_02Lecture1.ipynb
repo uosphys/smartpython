{
 "cells": [
  {
   "cell_type": "code",
   "execution_count": 1,
   "metadata": {},
   "outputs": [],
   "source": [
    "import numpy as np\n",
    "\n",
    "AA = np.array([[1,2],[3,4]])\n",
    "BB = np.array([[2,2],[2,2]])\n",
    "\n",
    "AA*BB"
   ]
  },
  {
   "cell_type": "code",
   "execution_count": 2,
   "metadata": {},
   "outputs": [],
   "source": [
    "x = np.array([1,2])\n",
    "A = np.array([[2,4],\n",
    "              [6,8]])\n",
    "\n",
    "# a1, a2는 상수\n",
    "# A*(a1*x1 + a2*x2) = a1*A*x1 + a2*A*x2"
   ]
  },
  {
   "cell_type": "code",
   "execution_count": 3,
   "metadata": {},
   "outputs": [],
   "source": [
    "# x = a1*e1 + a2*e2\n",
    "e1 = np.array([1,0]); e2 = np.array([0.1])"
   ]
  },
  {
   "cell_type": "code",
   "execution_count": 4,
   "metadata": {},
   "outputs": [],
   "source": [
    "x = e1 + 2*e2"
   ]
  },
  {
   "cell_type": "code",
   "execution_count": 5,
   "metadata": {},
   "outputs": [],
   "source": [
    "# np.dot(A,x) = np.dot(A,e1) + 2*np.odt(A,e2)"
   ]
  },
  {
   "cell_type": "code",
   "execution_count": 6,
   "metadata": {},
   "outputs": [],
   "source": [
    "b1 = np.array([2,6])\n",
    "b2 = 2*np.array([4,8])"
   ]
  },
  {
   "cell_type": "code",
   "execution_count": 9,
   "metadata": {
    "collapsed": true
   },
   "outputs": [
    {
     "ename": "SyntaxError",
     "evalue": "can't assign to operator (<ipython-input-9-8d226fc8da52>, line 1)",
     "output_type": "error",
     "traceback": [
      "\u001b[1;36m  File \u001b[1;32m\"<ipython-input-9-8d226fc8da52>\"\u001b[1;36m, line \u001b[1;32m1\u001b[0m\n\u001b[1;33m    b1 + b2 = [10,22]\u001b[0m\n\u001b[1;37m                     ^\u001b[0m\n\u001b[1;31mSyntaxError\u001b[0m\u001b[1;31m:\u001b[0m can't assign to operator\n"
     ]
    }
   ],
   "source": [
    "b1 + b2 = [10,22]\n",
    "\n",
    "x=[1,2], A*x = [10,22]\n",
    "# A의 값은?\n",
    "# 1. 연립방정식을 이용해 풀기\n",
    "# 2. 단위벡터를 대입한 후 풀기\n",
    "\n",
    "# 1. A = [[1,2],\n",
    "#        [0,2] 이고\n",
    "#    x = [1,1] 일때 A*x를 찾으시오\n",
    "# 2. x = [3,2]"
   ]
  },
  {
   "cell_type": "code",
   "execution_count": 12,
   "metadata": {},
   "outputs": [
    {
     "data": {
      "text/plain": [
       "array([7, 4])"
      ]
     },
     "execution_count": 12,
     "metadata": {},
     "output_type": "execute_result"
    }
   ],
   "source": [
    "A = np.array([[1,2],[0,2]])\n",
    "x = np.array([1,1])\n",
    "\n",
    "sol1 = np.dot(A,x)\n",
    "\n",
    "x2 = np.array([3,2])\n",
    "sol2 = np.dot(A,x2)\n"
   ]
  },
  {
   "cell_type": "code",
   "execution_count": 17,
   "metadata": {},
   "outputs": [
    {
     "name": "stdout",
     "output_type": "stream",
     "text": [
      "x [-2.75  1.75]\n"
     ]
    }
   ],
   "source": [
    "a11 = 2; a12 = 6\n",
    "a21 = 4; a22 = 8\n",
    "\n",
    "b1 = 5; b2 = 3\n",
    "\n",
    "\n",
    "# 연립방정식\n",
    "#a11*x1 + a12*x2 = b1\n",
    "#a21*x1 + a22*x2 = b2\n",
    "\n",
    "A = np.array([[a11,a12],\n",
    "              [a21,a22]])\n",
    "# x = ?\n",
    "b = np.array([5,3])\n",
    "\n",
    "x = np.linalg.solve(A,b)\n",
    "print('x',x)"
   ]
  },
  {
   "cell_type": "code",
   "execution_count": 19,
   "metadata": {},
   "outputs": [
    {
     "name": "stdout",
     "output_type": "stream",
     "text": [
      "x [10. 26.]\n"
     ]
    }
   ],
   "source": [
    "#\n",
    "# 머리가 36개, 발이 92개일때 토끼와 닭이 몇마리인지 찾으시오\n",
    "#\n",
    "# 힌트. \n",
    "\n",
    "A = np.array([[1,1],[4,2]])\n",
    "b = np.array([36,92])\n",
    "\n",
    "x = np.linalg.solve(A,b)\n",
    "print('x',x)"
   ]
  },
  {
   "cell_type": "code",
   "execution_count": 21,
   "metadata": {},
   "outputs": [
    {
     "ename": "IndentationError",
     "evalue": "expected an indented block (<ipython-input-21-c7165904ce09>, line 10)",
     "output_type": "error",
     "traceback": [
      "\u001b[1;36m  File \u001b[1;32m\"<ipython-input-21-c7165904ce09>\"\u001b[1;36m, line \u001b[1;32m10\u001b[0m\n\u001b[1;33m    x = np.linalg.solve(A,b)\u001b[0m\n\u001b[1;37m    ^\u001b[0m\n\u001b[1;31mIndentationError\u001b[0m\u001b[1;31m:\u001b[0m expected an indented block\n"
     ]
    }
   ],
   "source": [
    "# 100마리 양을 구매하려는데 10,000,000 원이 있다.\n",
    "# 숫양 은 200,000원, 암양은 100,000원, 어린양은 100,000/3 원이다.\n",
    "# 돈을 다 소진 하려면 숫양, 암양, 어린양의 수가 몇이어야 하는가?\n",
    "# 양 숫자가 0이 될 수는 없다. 많은 경우의 수가 가능함. 그리고 양의 숫자는 정수.\n",
    "\n",
    "A = np.array([[1,1,1],[200000,100000,100000/3]])\n",
    "b = np.array([100,10000000])\n",
    "\n",
    "number = 0\n",
    "for i in range(0,100):\n",
    "    number = number + 1\n",
    "    \n",
    "x = np.linalg.solve(A,b)\n",
    "\n",
    "print('x',x)"
   ]
  },
  {
   "cell_type": "code",
   "execution_count": 24,
   "metadata": {},
   "outputs": [],
   "source": [
    "from IPython.display import Image"
   ]
  },
  {
   "cell_type": "markdown",
   "metadata": {},
   "source": [
    "## 아무개 A, 범진 B 씨가 있다.\n",
    "1. 서로 마주보며 균일한 속도로 걸어오며 100m 거리를 좁혀오고 있다. 30초가 걸린다. \n",
    "2. 서로 똑같은 방향으로 걸어가고 있을 때 아무개씨가 범진씨를 따라 잡을때까지 걸리는 시간은 80초 이다.\n",
    "\n",
    "아무개씨와 범진씨의 속력을 찾아라\n",
    "  \n",
    "   거리 = 속도 * 시간  \n",
    "   d = v * t\n",
    "   \n",
    "   ![title](Lecture1/image_2021-02-02_14-49-31.png)"
   ]
  },
  {
   "cell_type": "code",
   "execution_count": 23,
   "metadata": {},
   "outputs": [
    {
     "name": "stdout",
     "output_type": "stream",
     "text": [
      "아무개의 속력, 범진의 속력 [2.29166667 1.04166667]\n"
     ]
    }
   ],
   "source": [
    "A = np.array([[30,30],[80,-80]])\n",
    "b = np.array([100,100])\n",
    "\n",
    "x = np.linalg.solve(A,b)\n",
    "\n",
    "print('아무개의 속력, 범진의 속력',x)"
   ]
  },
  {
   "cell_type": "markdown",
   "metadata": {},
   "source": [
    "아무개씨가 초속 2미터로 걸어가고 있다.  \n",
    "범진씨는 초속 1미터 속력으로 걸어가고 있다.  \n",
    "서로 만날때까지 걸리는 시간을 찾으시오.  \n",
    "초기 거리는 100미터이다.  \n",
    "\n",
    "가) 서로 마주보며 걸을 때  \n",
    "\n",
    "2 * t1 + 1 * t1 = 100  \n",
    "3 * t1 = 100  \n",
    "\n",
    "나) 같은 방향으로 걸을 때  \n",
    "\n",
    "2 * t2 - 1 * t2 = 100"
   ]
  },
  {
   "cell_type": "code",
   "execution_count": null,
   "metadata": {},
   "outputs": [],
   "source": [
    "행렬식 = determinant ~ 면적을 구하는 연산\n",
    "M by N matrix, M=N determinant 가 가능함\n"
   ]
  },
  {
   "cell_type": "code",
   "execution_count": 25,
   "metadata": {},
   "outputs": [],
   "source": [
    "A = np.array([[30,30],[80,-80]])"
   ]
  },
  {
   "cell_type": "code",
   "execution_count": 26,
   "metadata": {},
   "outputs": [
    {
     "data": {
      "text/plain": [
       "-4800.000000000001"
      ]
     },
     "execution_count": 26,
     "metadata": {},
     "output_type": "execute_result"
    }
   ],
   "source": [
    "np.linalg.det(A)"
   ]
  },
  {
   "cell_type": "code",
   "execution_count": null,
   "metadata": {},
   "outputs": [],
   "source": [
    "parallelepiped 평행"
   ]
  },
  {
   "cell_type": "markdown",
   "metadata": {},
   "source": [
    "30*x1 + 30*x2 = 100\n",
    "\n",
    "x1 -> y  \n",
    "x2 -> x\n",
    "\n",
    "30*y = -30*x + 100  \n",
    "y = m*x + a 의 형태로 쓸 수 가 있음\n",
    "\n",
    "### 선의 공식\n",
    "y = -x + 100/30\n"
   ]
  },
  {
   "cell_type": "code",
   "execution_count": 29,
   "metadata": {},
   "outputs": [],
   "source": [
    "import matplotlib.pyplot as plt\n",
    "\n",
    "# y 함수 정의\n",
    "def y(x):\n",
    "    return -x + 100/30"
   ]
  },
  {
   "cell_type": "code",
   "execution_count": 30,
   "metadata": {},
   "outputs": [],
   "source": [
    "x = np.linspace(-100,100,20)"
   ]
  },
  {
   "cell_type": "markdown",
   "metadata": {},
   "source": []
  },
  {
   "cell_type": "code",
   "execution_count": 31,
   "metadata": {},
   "outputs": [],
   "source": [
    "Ainv = np.linalg.inv(A)"
   ]
  },
  {
   "cell_type": "code",
   "execution_count": 32,
   "metadata": {},
   "outputs": [
    {
     "name": "stdout",
     "output_type": "stream",
     "text": [
      "[[ 0.01666667  0.00625   ]\n",
      " [ 0.01666667 -0.00625   ]]\n"
     ]
    }
   ],
   "source": [
    "print(Ainv)"
   ]
  },
  {
   "cell_type": "code",
   "execution_count": 33,
   "metadata": {},
   "outputs": [
    {
     "data": {
      "text/plain": [
       "array([[1., 0.],\n",
       "       [0., 1.]])"
      ]
     },
     "execution_count": 33,
     "metadata": {},
     "output_type": "execute_result"
    }
   ],
   "source": [
    "np.dot(Ainv, A)"
   ]
  },
  {
   "cell_type": "code",
   "execution_count": 36,
   "metadata": {
    "collapsed": true
   },
   "outputs": [
    {
     "ename": "SyntaxError",
     "evalue": "can't assign to function call (<ipython-input-36-208d915a9310>, line 6)",
     "output_type": "error",
     "traceback": [
      "\u001b[1;36m  File \u001b[1;32m\"<ipython-input-36-208d915a9310>\"\u001b[1;36m, line \u001b[1;32m6\u001b[0m\n\u001b[1;33m    matmul(A,u) = np.array([3,2])\u001b[0m\n\u001b[1;37m                                 ^\u001b[0m\n\u001b[1;31mSyntaxError\u001b[0m\u001b[1;31m:\u001b[0m can't assign to function call\n"
     ]
    }
   ],
   "source": [
    "# 다음과 같은 벡터가 주어졌을 때\n",
    "u = [1,1]\n",
    "v = [1,-1]\n",
    "\n",
    "# 다음 연산을 충족시키는 A 행렬을 찾으시오\n",
    "matmul(A,u) = np.array([3,2])\n",
    "matmul(A,v) = np.array([-1,-2])\n",
    "\n",
    "#Find A\n",
    "np.dot(A,[1,0]) = 첫번째 열\n",
    "np.dot(A,[0,1]) = 두번째 열\n",
    "\n",
    "A*(u + v) = 2*A*[1,0] = [2, 0]\n",
    "A*(u - v) = 2*A*[0,1] = [4, 4]\n",
    "\n",
    "A1 = [1,0] # Column vector 첫번째 열\n",
    "A2 = [2,2] # Colunm vector 두번째 열\n",
    "\n",
    "A = np.array([[1,2],\n",
    "              [0,2]])"
   ]
  },
  {
   "cell_type": "code",
   "execution_count": 37,
   "metadata": {},
   "outputs": [
    {
     "data": {
      "text/plain": [
       "array([3, 2])"
      ]
     },
     "execution_count": 37,
     "metadata": {},
     "output_type": "execute_result"
    }
   ],
   "source": [
    "A = np.array([[1,2],[0,2]])\n",
    "np.dot(A,[1,1])"
   ]
  },
  {
   "cell_type": "code",
   "execution_count": 38,
   "metadata": {},
   "outputs": [
    {
     "data": {
      "text/plain": [
       "array([-1, -2])"
      ]
     },
     "execution_count": 38,
     "metadata": {},
     "output_type": "execute_result"
    }
   ],
   "source": [
    "np.dot(A,[1,-1])"
   ]
  },
  {
   "cell_type": "code",
   "execution_count": null,
   "metadata": {},
   "outputs": [],
   "source": []
  }
 ],
 "metadata": {
  "kernelspec": {
   "display_name": "Python 3",
   "language": "python",
   "name": "python3"
  },
  "language_info": {
   "codemirror_mode": {
    "name": "ipython",
    "version": 3
   },
   "file_extension": ".py",
   "mimetype": "text/x-python",
   "name": "python",
   "nbconvert_exporter": "python",
   "pygments_lexer": "ipython3",
   "version": "3.7.6"
  }
 },
 "nbformat": 4,
 "nbformat_minor": 4
}
