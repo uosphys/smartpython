{
 "cells": [
  {
   "cell_type": "code",
   "execution_count": 132,
   "metadata": {},
   "outputs": [
    {
     "data": {
      "text/plain": [
       "array([[2, 4],\n",
       "       [6, 8]])"
      ]
     },
     "execution_count": 132,
     "metadata": {},
     "output_type": "execute_result"
    }
   ],
   "source": [
    "# 과학 파이썬. https://www.scipy.org/\n",
    "# 넘파이 입문. https://numpy.org/doc/1.20/user/absolute_beginners.html\n",
    "\n",
    "\n",
    "\n",
    "import numpy as np\n",
    "\n",
    "AA = np.array([[1,2],[3,4]])\n",
    "BB = np.array([[2,2],[2,2]])\n",
    "AA*BB"
   ]
  },
  {
   "cell_type": "code",
   "execution_count": 133,
   "metadata": {},
   "outputs": [
    {
     "name": "stdout",
     "output_type": "stream",
     "text": [
      "[[2 8]\n",
      " [6 8]]\n",
      "[[2 4]\n",
      " [6 8]]\n"
     ]
    }
   ],
   "source": [
    "AA = np.array([[1,2],[3,4]])\n",
    "BB = np.array([[2,4],[2,2]])\n",
    "C = AA*BB\n",
    "D = 2*AA\n",
    "\n",
    "print(C)\n",
    "print(D)"
   ]
  },
  {
   "cell_type": "code",
   "execution_count": 134,
   "metadata": {},
   "outputs": [],
   "source": [
    "# x = np.array([\n",
    "#              e,\n",
    "#              f\n",
    "#             ])\n",
    "\n",
    "# A = np.array([[a,b],\n",
    "#             [c,d]])\n",
    "\n",
    "# A*x = ([[a*e, b*f],\n",
    "#        [c*e, d*f]])"
   ]
  },
  {
   "cell_type": "code",
   "execution_count": 135,
   "metadata": {},
   "outputs": [],
   "source": [
    "A = D\n",
    "x = np.array([1,2])"
   ]
  },
  {
   "cell_type": "code",
   "execution_count": 136,
   "metadata": {},
   "outputs": [
    {
     "data": {
      "text/plain": [
       "array([10, 22])"
      ]
     },
     "execution_count": 136,
     "metadata": {},
     "output_type": "execute_result"
    }
   ],
   "source": [
    "np.dot(A,x)"
   ]
  },
  {
   "cell_type": "code",
   "execution_count": 137,
   "metadata": {},
   "outputs": [
    {
     "data": {
      "text/plain": [
       "10"
      ]
     },
     "execution_count": 137,
     "metadata": {},
     "output_type": "execute_result"
    }
   ],
   "source": [
    "A[0,0]*x[0] + A[0,1]*x[1]"
   ]
  },
  {
   "cell_type": "code",
   "execution_count": 138,
   "metadata": {},
   "outputs": [
    {
     "data": {
      "text/plain": [
       "22"
      ]
     },
     "execution_count": 138,
     "metadata": {},
     "output_type": "execute_result"
    }
   ],
   "source": [
    "A[1,0]*x[0] + A[1,1]*x[1]"
   ]
  },
  {
   "cell_type": "code",
   "execution_count": 139,
   "metadata": {},
   "outputs": [
    {
     "data": {
      "text/plain": [
       "array([14, 20])"
      ]
     },
     "execution_count": 139,
     "metadata": {},
     "output_type": "execute_result"
    }
   ],
   "source": [
    "# [e, f]*[[a, b],[c, d]]\n",
    "\n",
    "np.dot(x,A)"
   ]
  },
  {
   "cell_type": "code",
   "execution_count": 140,
   "metadata": {},
   "outputs": [
    {
     "data": {
      "text/plain": [
       "14"
      ]
     },
     "execution_count": 140,
     "metadata": {},
     "output_type": "execute_result"
    }
   ],
   "source": [
    "x[0]*A[0,0] + x[1]*A[1,0]"
   ]
  },
  {
   "cell_type": "code",
   "execution_count": 141,
   "metadata": {},
   "outputs": [
    {
     "data": {
      "text/plain": [
       "20"
      ]
     },
     "execution_count": 141,
     "metadata": {},
     "output_type": "execute_result"
    }
   ],
   "source": [
    "x[0]*A[0,1] + x[1]*A[1,1]"
   ]
  },
  {
   "cell_type": "code",
   "execution_count": 142,
   "metadata": {},
   "outputs": [],
   "source": [
    "# a1, a2는 상수.\n",
    "# A*(a1*x1 + a2*x2) = a1*A*x1 + a2*A*x2"
   ]
  },
  {
   "cell_type": "code",
   "execution_count": 143,
   "metadata": {},
   "outputs": [
    {
     "data": {
      "text/plain": [
       "array([1, 2])"
      ]
     },
     "execution_count": 143,
     "metadata": {},
     "output_type": "execute_result"
    }
   ],
   "source": [
    "e1 = np.array([1,0]) ; e2 = np.array([0,1])\n",
    "x = e1 + 2*e2\n",
    "x"
   ]
  },
  {
   "cell_type": "code",
   "execution_count": 144,
   "metadata": {},
   "outputs": [],
   "source": [
    "# np.dot(A,x) = np.dot(A,e1) + 2*np.dot(A,e2)"
   ]
  },
  {
   "cell_type": "code",
   "execution_count": 145,
   "metadata": {},
   "outputs": [
    {
     "data": {
      "text/plain": [
       "array([10, 22])"
      ]
     },
     "execution_count": 145,
     "metadata": {},
     "output_type": "execute_result"
    }
   ],
   "source": [
    "b1 = np.array([2,6])\n",
    "b2 = 2*np.array([4,8])\n",
    "\n",
    "b1+b2"
   ]
  },
  {
   "cell_type": "code",
   "execution_count": 146,
   "metadata": {},
   "outputs": [],
   "source": [
    "# 1. A = [[1,2],\n",
    "#        [0,2]]\n",
    "# x1 = [1,1]\n",
    "# x2 = [3,2]\n",
    "\n",
    "A = np.array([[1,2],[0,2]])\n",
    "x = np.array([1,1])\n",
    "\n",
    "sol1 = np.dot(A,x)\n",
    "\n",
    "x2 = np.array([3,2])\n",
    "sol2 = np.dot(A,x2)"
   ]
  },
  {
   "cell_type": "code",
   "execution_count": 147,
   "metadata": {},
   "outputs": [
    {
     "name": "stdout",
     "output_type": "stream",
     "text": [
      "x [-2.75  1.75]\n"
     ]
    }
   ],
   "source": [
    "a11 = 2; a12 = 6\n",
    "a21 = 4; a22 = 8\n",
    "\n",
    "b1 = 5; b2 = 3\n",
    "\n",
    "# 연립방정식\n",
    "# a11*x1 + a12*x2 = b1\n",
    "# a21*x1 + a22*x2 = b2\n",
    "\n",
    "A = np.array([[a11,a12],\n",
    "              [a21,a22]])\n",
    "\n",
    "# x = ?\n",
    "\n",
    "b = np.array([5,3])\n",
    "\n",
    "x = np.linalg.solve(A,b)\n",
    "print('x',x)"
   ]
  },
  {
   "cell_type": "code",
   "execution_count": 148,
   "metadata": {},
   "outputs": [
    {
     "name": "stdout",
     "output_type": "stream",
     "text": [
      "sol [10. 26.]\n"
     ]
    }
   ],
   "source": [
    "# 머리가 36개, 발이 92개일 때, 토끼와 닭이 몇 마리인지 찾으시오.\n",
    "\n",
    "Sol1 = np.array([[1,1],\n",
    "                 [4,2]])\n",
    "sol1 = np.array([36,92])\n",
    "\n",
    "sol = np.linalg.solve(Sol1,sol1)\n",
    "print('sol',sol)"
   ]
  },
  {
   "cell_type": "markdown",
   "metadata": {},
   "source": [
    "# Homework"
   ]
  },
  {
   "cell_type": "code",
   "execution_count": 149,
   "metadata": {},
   "outputs": [
    {
     "name": "stdout",
     "output_type": "stream",
     "text": [
      "숫양, 암양, 어린양:  [ 2. 95.  3.]\n",
      "숫양, 암양, 어린양:  [ 4. 90.  6.]\n",
      "숫양, 암양, 어린양:  [ 6. 85.  9.]\n",
      "숫양, 암양, 어린양:  [ 8. 80. 12.]\n",
      "숫양, 암양, 어린양:  [10. 75. 15.]\n",
      "숫양, 암양, 어린양:  [12. 70. 18.]\n",
      "숫양, 암양, 어린양:  [14. 65. 21.]\n",
      "숫양, 암양, 어린양:  [16. 60. 24.]\n",
      "숫양, 암양, 어린양:  [18. 55. 27.]\n",
      "숫양, 암양, 어린양:  [20. 50. 30.]\n",
      "숫양, 암양, 어린양:  [22. 45. 33.]\n",
      "숫양, 암양, 어린양:  [24. 40. 36.]\n",
      "숫양, 암양, 어린양:  [26. 35. 39.]\n",
      "숫양, 암양, 어린양:  [28. 30. 42.]\n",
      "숫양, 암양, 어린양:  [30. 25. 45.]\n",
      "숫양, 암양, 어린양:  [32. 20. 48.]\n",
      "숫양, 암양, 어린양:  [34. 15. 51.]\n",
      "숫양, 암양, 어린양:  [36. 10. 54.]\n",
      "숫양, 암양, 어린양:  [38.  5. 57.]\n",
      "숫양, 암양, 어린양:  [40.  0. 60.]\n",
      "숫양, 암양, 어린양:  [42. -5. 63.]\n",
      "숫양, 암양, 어린양:  [ 44. -10.  66.]\n",
      "숫양, 암양, 어린양:  [ 46. -15.  69.]\n",
      "숫양, 암양, 어린양:  [ 48. -20.  72.]\n",
      "숫양, 암양, 어린양:  [ 50. -25.  75.]\n",
      "숫양, 암양, 어린양:  [ 52. -30.  78.]\n",
      "숫양, 암양, 어린양:  [ 54. -35.  81.]\n",
      "숫양, 암양, 어린양:  [ 56. -40.  84.]\n",
      "숫양, 암양, 어린양:  [ 58. -45.  87.]\n",
      "숫양, 암양, 어린양:  [ 60. -50.  90.]\n",
      "숫양, 암양, 어린양:  [ 62. -55.  93.]\n",
      "숫양, 암양, 어린양:  [ 64. -60.  96.]\n"
     ]
    }
   ],
   "source": [
    "# 100마리 양을 구매하려는데 10,000,000원이 있다.\n",
    "# 숫양은 200,000원, 암양은 100,000원, 어린양은 100,000/3원이다.\n",
    "# 돈을 다 소진하려면 숫양, 암양, 어린양의 수가 몇이어야 하는가?\n",
    "\n",
    "# x + y + z = 100\n",
    "# 2*x + y + z/3 = 100\n",
    "\n",
    "\n",
    "for i in range(1,33):\n",
    "    Sol2 = np.array([[1,1],\n",
    "                   [2,1]])\n",
    "    sol2 = np.array([100-(3*i),100-i])\n",
    "    sol = np.linalg.solve(Sol2,sol2)\n",
    "    sol = np.append(sol,3*i)\n",
    "    print('숫양, 암양, 어린양: ', sol)"
   ]
  },
  {
   "cell_type": "markdown",
   "metadata": {},
   "source": [
    "# Problem"
   ]
  },
  {
   "cell_type": "markdown",
   "metadata": {},
   "source": [
    "균일한 속도로 걸어가는 A와 B가 있다.\n",
    "1. 마주보며 100미터 거리를 좁혀오고 있을 때 만나는 데 걸리는 시간은 30초다.\n",
    "2. 똑같은 방향으로 걸어가고 있을 때 A가 B를 따라잡는 데 걸리는 시간은 80초다.\n",
    "\n",
    "문제: A와 B의 속력을 찾아라.\n",
    "\n",
    "    거리 = 속력*시간\n",
    "    d = v*t\n"
   ]
  },
  {
   "cell_type": "code",
   "execution_count": 150,
   "metadata": {},
   "outputs": [
    {
     "name": "stdout",
     "output_type": "stream",
     "text": [
      "v_A, v_B:  [2.29166667 1.04166667]\n"
     ]
    }
   ],
   "source": [
    "# vA*30s + vB*30s = 100m\n",
    "# vA*80s - vB*80s = 100m\n",
    "\n",
    "t = np.array([[30, 30],\n",
    "              [80, -80]])\n",
    "d = np.array([100, 100])\n",
    "\n",
    "v = np.linalg.solve(t,d)\n",
    "print('v_A, v_B: ', v)"
   ]
  },
  {
   "cell_type": "markdown",
   "metadata": {},
   "source": [
    "# Problem 2"
   ]
  },
  {
   "cell_type": "markdown",
   "metadata": {},
   "source": [
    "A가 초속 2m, B가 초속 1m로 걸어가고 있다. 초기 거리는 100미터이다.\n",
    "서로 만날 때까지 걸리는 시간은?\n",
    "\n",
    "가) 서로 마주보며 걸을 때\n",
    "\n",
    "2*t = 100 - 1*t\n",
    "3*t = 100 -> t = 100/3\n",
    "3*t - 100 = 0 # Equation to solve\n",
    "\n",
    "나) 같은 방향으로 걸을 때"
   ]
  },
  {
   "cell_type": "code",
   "execution_count": 151,
   "metadata": {},
   "outputs": [
    {
     "name": "stdout",
     "output_type": "stream",
     "text": [
      "가:  [100/3] , 나:  [100]\n"
     ]
    }
   ],
   "source": [
    "from sympy import *\n",
    "\n",
    "t1, t2 = symbols('t1 t2')\n",
    "\n",
    "eq1 = 2*t1 + 1*t1 - 100\n",
    "eq2 = 2*t2 - 1*t2 - 100\n",
    "\n",
    "print('가: ', solve(eq1), ', 나: ', solve(eq2))"
   ]
  },
  {
   "cell_type": "markdown",
   "metadata": {},
   "source": [
    "### "
   ]
  },
  {
   "cell_type": "markdown",
   "metadata": {},
   "source": [
    "A*x = b\n",
    "\n",
    "Inverse matrix definition A^(-1)*A = 1\n",
    "A^(-1)*A*x = A^(-1)*b\n",
    "\n",
    "We can solve for x if we know the matrix"
   ]
  },
  {
   "cell_type": "code",
   "execution_count": 152,
   "metadata": {},
   "outputs": [
    {
     "name": "stdout",
     "output_type": "stream",
     "text": [
      "[[-1.    0.75]\n",
      " [ 0.5  -0.25]]\n"
     ]
    }
   ],
   "source": [
    "Ainv = np.linalg.inv(A)\n",
    "print(Ainv)"
   ]
  },
  {
   "cell_type": "code",
   "execution_count": 153,
   "metadata": {},
   "outputs": [
    {
     "data": {
      "text/plain": [
       "array([-25.,  25.])"
      ]
     },
     "execution_count": 153,
     "metadata": {},
     "output_type": "execute_result"
    }
   ],
   "source": [
    "np.dot(Ainv,[100,100]) # Another way of solving"
   ]
  },
  {
   "cell_type": "code",
   "execution_count": 171,
   "metadata": {},
   "outputs": [],
   "source": [
    "# 다음과 같은 벡터가 주어졌을 때\n",
    "u = [1,1]\n",
    "v = [1,-1]\n",
    "\n",
    "# 다음 연산을 충족시키는 A 행렬을 찾으시오.\n",
    "# np.matmul(A,u) = [3,2]\n",
    "# np.matmul(A,v) = [-1,-2]\n",
    "\n",
    "# Find A\n",
    "\n",
    "# 1) 단위벡터 사용\n",
    "# np.dot(A,[1,0]) = 첫번째 열\n",
    "# np.dot(A,[0,1]) = 두번째 열\n",
    "\n",
    "# 단위벡터에 적용하는 연산자의 답은 연산자 자체의 열이 된다.\n",
    "# A*(u+v) = 2*A*[1,0] = [2,0]\n",
    "# A*(u-v) = 2*A*[0,1] = [4,4]\n",
    "\n",
    "A1 = [1,0] # Column vectors 열\n",
    "A2 = [2,2]\n",
    "A = np.array([[1,2],\n",
    "              [0,2]])"
   ]
  },
  {
   "cell_type": "code",
   "execution_count": 172,
   "metadata": {},
   "outputs": [
    {
     "data": {
      "text/plain": [
       "array([3, 2])"
      ]
     },
     "execution_count": 172,
     "metadata": {},
     "output_type": "execute_result"
    }
   ],
   "source": [
    "np.dot(A,u)"
   ]
  },
  {
   "cell_type": "code",
   "execution_count": 173,
   "metadata": {},
   "outputs": [
    {
     "data": {
      "text/plain": [
       "array([-1, -2])"
      ]
     },
     "execution_count": 173,
     "metadata": {},
     "output_type": "execute_result"
    }
   ],
   "source": [
    "np.dot(A,v)"
   ]
  },
  {
   "cell_type": "raw",
   "metadata": {},
   "source": [
    "행렬식 = determinant ~ 면적을 구하는 연산\n",
    "M by N matrix, M = N determinant가 가능함"
   ]
  },
  {
   "cell_type": "code",
   "execution_count": 121,
   "metadata": {},
   "outputs": [
    {
     "data": {
      "text/plain": [
       "1200.0"
      ]
     },
     "execution_count": 121,
     "metadata": {},
     "output_type": "execute_result"
    }
   ],
   "source": [
    "import numpy as np\n",
    "\n",
    "A = np.array([[30,30],[40,80]])\n",
    "np.linalg.det(A)"
   ]
  },
  {
   "cell_type": "raw",
   "metadata": {},
   "source": [
    "30*x1 + 30*x2 = b1\n",
    "80*x1 + 80*x2 = b2"
   ]
  },
  {
   "cell_type": "markdown",
   "metadata": {},
   "source": [
    "# "
   ]
  },
  {
   "cell_type": "markdown",
   "metadata": {},
   "source": [
    "A와 B의 공식: 30x1 + 30x2 = 100\n",
    "\n",
    "x1 -> y, x2 -> x\n",
    "\n",
    "30y = -30x + 100y = m*x + a 형태로 쓸 수가 있음"
   ]
  },
  {
   "cell_type": "markdown",
   "metadata": {},
   "source": [
    "# 선의 공식\n",
    "\n",
    "#### y = -x + 100/30"
   ]
  },
  {
   "cell_type": "code",
   "execution_count": 127,
   "metadata": {},
   "outputs": [],
   "source": [
    "import matplotlib.pyplot as plt\n",
    "\n",
    "# y 함수 정의\n",
    "\n",
    "def y(x):\n",
    "    return -x+100/30"
   ]
  },
  {
   "cell_type": "code",
   "execution_count": 128,
   "metadata": {},
   "outputs": [],
   "source": [
    "x = np.linspace(-100,100,20)"
   ]
  },
  {
   "cell_type": "code",
   "execution_count": null,
   "metadata": {},
   "outputs": [],
   "source": []
  }
 ],
 "metadata": {
  "kernelspec": {
   "display_name": "Python 3",
   "language": "python",
   "name": "python3"
  },
  "language_info": {
   "codemirror_mode": {
    "name": "ipython",
    "version": 3
   },
   "file_extension": ".py",
   "mimetype": "text/x-python",
   "name": "python",
   "nbconvert_exporter": "python",
   "pygments_lexer": "ipython3",
   "version": "3.8.5"
  }
 },
 "nbformat": 4,
 "nbformat_minor": 4
}
