{
 "cells": [
  {
   "cell_type": "markdown",
   "metadata": {},
   "source": [
    "# # 2월2일 컴퓨터 계산 입문 융합교육 프로그램 (1일차)"
   ]
  },
  {
   "cell_type": "code",
   "execution_count": null,
   "metadata": {},
   "outputs": [],
   "source": [
    "import numpy as np\n",
    "x = np.array([1,2])\n",
    "A = np.array([[2,4],\n",
    "             [6,8]])\n",
    "\n",
    "np.dot(A,x)\n",
    "\n",
    "A = np.array([[1,2],[0,2]])\n",
    "x1 = np.array([1,1])\n",
    "x2 = np.array([3,2])\n",
    "print (np.dot(A,x1))\n",
    "print (np.dot(A,x2))\n",
    "\n",
    "\n",
    "# 연립방정식 1\n",
    "a11 = 2; a12 = 6\n",
    "a21 = 4; a22 = 8\n",
    "b1 = 5; b2 = 3\n",
    "A = np.array([[a11,a12], [a21,a22]])\n",
    "b = np.array([b1,b2])\n",
    "\n",
    "x = np.linalg.solve(A,b)\n",
    "print (x)\n",
    "\n",
    "\n",
    "# 연립방정식 2. 토끼와 닭 몇 마리? (머리 36, 발 92)\n",
    "A = np.array([[1,1], [4,2]])\n",
    "b = np.array([36, 92])\n",
    "x = np.linalg.solve(A,b)\n",
    "print (x)\n",
    "\n",
    "# 연립방정식 3. 100마리 양을 구하는데 10,000,000원\n",
    "# 숫양은 200,000 암양 100,000 어린양 100,000/3\n",
    "# 돈을 다 소진하려면 숫양, 암양, 어린양의 수가 몇이어야 하는가?\n",
    "group = []\n",
    "for i in range(1,20):\n",
    "    A = np.array([[1,1], [20,10]])\n",
    "    b = np.array([100-3*i,1000-10*i])\n",
    "    x = np.linalg.solve(A,b)\n",
    "    group.append([x,3*i])\n",
    "print (group)\n",
    "\n",
    "# 연립방정식 4. 속력 구하기\n",
    "# 아무개 A씨, 범진 B씨가 있다.\n",
    "# 1. 서로 마주보며 균일한 속도로 걸어오며 100미터 거리를 좁혀오고 있다. 30초가 걸린다.\n",
    "# 2. 서로 똑같은 방향으로 걸어라고 했을 때 아무개 씨가 범진씨를 따라 잡을 때까지 걸리는 시간은 80초다.\n",
    "# 아무개 씨와 범진씨의 속력을 찾아라.\n",
    "A = np.array([[30,30], [80,-80]])\n",
    "b = np.array([100, 100])\n",
    "x = np.linalg.solve(A,b)\n",
    "print (x)\n",
    "\n",
    "# 판별식, 역행렬 구하는 법 및 행렬 구하기\n",
    "# 행렬식 = determinant - 면적을 구하는 연산\n",
    "# M by N matrix, M=N determinant가 가능함\n",
    "A = np.array([[30,30], [80,80]])\n",
    "np.linalg.det(A) # 판별식\n",
    "Ainv = np.linalg.inv(A) # 역행렬\n",
    "\n",
    "# 행렬 A 찾기\n",
    "# 다음과 같은 벡터가 주어졌을 때\n",
    "# u = [1,1], v = [1,-1]\n",
    "# 다음 연산을 충족 시키는 A 행렬을 찾으시오.\n",
    "# matmul(A, u) = [3,2]\n",
    "# matmul(A, v) = [-1,-2]\n",
    "P = np.array([[1,1],[1,-1]])\n",
    "Q = np.array([[3,-11], [2,-2]])\n",
    "A = np.matmul(Q, np.linalg.inv(P))\n",
    "print(A)"
   ]
  },
  {
   "cell_type": "code",
   "execution_count": 5,
   "metadata": {},
   "outputs": [
    {
     "ename": "NameError",
     "evalue": "name 'array' is not defined",
     "output_type": "error",
     "traceback": [
      "\u001b[1;31m---------------------------------------------------------------------------\u001b[0m",
      "\u001b[1;31mNameError\u001b[0m                                 Traceback (most recent call last)",
      "\u001b[1;32m<ipython-input-5-bb7f6466c067>\u001b[0m in \u001b[0;36m<module>\u001b[1;34m\u001b[0m\n\u001b[0;32m      1\u001b[0m \u001b[0mx\u001b[0m \u001b[1;33m=\u001b[0m \u001b[0mnp\u001b[0m\u001b[1;33m.\u001b[0m\u001b[0marray\u001b[0m\u001b[1;33m(\u001b[0m\u001b[1;33m[\u001b[0m\u001b[1;36m1\u001b[0m\u001b[1;33m,\u001b[0m\u001b[1;36m2\u001b[0m\u001b[1;33m]\u001b[0m\u001b[1;33m)\u001b[0m\u001b[1;33m\u001b[0m\u001b[1;33m\u001b[0m\u001b[0m\n\u001b[1;32m----> 2\u001b[1;33m \u001b[0my\u001b[0m \u001b[1;33m=\u001b[0m \u001b[0marray\u001b[0m\u001b[1;33m(\u001b[0m\u001b[1;33m[\u001b[0m\u001b[1;36m1\u001b[0m\u001b[1;33m,\u001b[0m\u001b[1;36m2\u001b[0m\u001b[1;33m]\u001b[0m\u001b[1;33m)\u001b[0m\u001b[1;33m\u001b[0m\u001b[1;33m\u001b[0m\u001b[0m\n\u001b[0m\u001b[0;32m      3\u001b[0m \u001b[0mprint\u001b[0m \u001b[1;33m(\u001b[0m\u001b[0mx\u001b[0m\u001b[1;33m)\u001b[0m\u001b[1;33m\u001b[0m\u001b[1;33m\u001b[0m\u001b[0m\n\u001b[0;32m      4\u001b[0m \u001b[0mprint\u001b[0m \u001b[1;33m(\u001b[0m\u001b[0my\u001b[0m\u001b[1;33m)\u001b[0m\u001b[1;33m\u001b[0m\u001b[1;33m\u001b[0m\u001b[0m\n",
      "\u001b[1;31mNameError\u001b[0m: name 'array' is not defined"
     ]
    }
   ],
   "source": [
    "x = np.array([1,2])\n",
    "y = array([1,2])\n",
    "print (x)\n",
    "print (y)"
   ]
  },
  {
   "cell_type": "code",
   "execution_count": 14,
   "metadata": {},
   "outputs": [
    {
     "data": {
      "text/plain": [
       "array([10, 22])"
      ]
     },
     "execution_count": 14,
     "metadata": {},
     "output_type": "execute_result"
    }
   ],
   "source": [
    "x = np.array([1,2])\n",
    "A = np.array([[2,4],\n",
    "             [6,8]])\n",
    "\n",
    "np.dot(A,x)"
   ]
  },
  {
   "cell_type": "code",
   "execution_count": 15,
   "metadata": {},
   "outputs": [],
   "source": [
    "e1 = np.array([1,0]); e2 = np.array([0,1])"
   ]
  },
  {
   "cell_type": "code",
   "execution_count": 16,
   "metadata": {},
   "outputs": [],
   "source": [
    "x = e1 + 2*e2"
   ]
  },
  {
   "cell_type": "code",
   "execution_count": 17,
   "metadata": {},
   "outputs": [
    {
     "name": "stdout",
     "output_type": "stream",
     "text": [
      "[1 2]\n"
     ]
    }
   ],
   "source": [
    "print (x)"
   ]
  },
  {
   "cell_type": "markdown",
   "metadata": {},
   "source": [
    "b1 = np.array([2,6])\n",
    "b2 = 2*np.array([4,8])\n",
    "b1+b2"
   ]
  },
  {
   "cell_type": "code",
   "execution_count": 29,
   "metadata": {},
   "outputs": [
    {
     "name": "stdout",
     "output_type": "stream",
     "text": [
      "[3 2]\n",
      "[7 4]\n"
     ]
    }
   ],
   "source": [
    "A = np.array([[1,2],[0,2]])\n",
    "x1 = np.array([1,1])\n",
    "x2 = np.array([3,2])\n",
    "print (np.dot(A,x1))\n",
    "print (np.dot(A,x2))"
   ]
  },
  {
   "cell_type": "markdown",
   "metadata": {},
   "source": [
    "## 연립방정식\n",
    "    a11*x1 + a12*x2 = b1\n",
    "    a21*x1 + a22*x2 = b2\n",
    "    \n",
    "    A = [[a11,a12],[a21,a22]]\n",
    "    x = ?\n",
    "    b = 외부 조건\n",
    "    \n",
    "    x = np.linalg.solve(A,x)"
   ]
  },
  {
   "cell_type": "code",
   "execution_count": 33,
   "metadata": {},
   "outputs": [
    {
     "name": "stdout",
     "output_type": "stream",
     "text": [
      "[-2.75  1.75]\n"
     ]
    }
   ],
   "source": [
    "a11 = 2; a12 = 6\n",
    "a21 = 4; a22 = 8\n",
    "b1 = 5; b2 = 3\n",
    "A = np.array([[a11,a12], [a21,a22]])\n",
    "b = np.array([b1,b2])\n",
    "\n",
    "x = np.linalg.solve(A,b)\n",
    "print (x)"
   ]
  },
  {
   "cell_type": "markdown",
   "metadata": {},
   "source": [
    "# 토끼와 닭이 몇마리인지 구하는 문제\n",
    "# 머리 36개, 발 92. 토끼와 닭 몇마리?"
   ]
  },
  {
   "cell_type": "code",
   "execution_count": 35,
   "metadata": {},
   "outputs": [
    {
     "name": "stdout",
     "output_type": "stream",
     "text": [
      "[10. 26.]\n"
     ]
    }
   ],
   "source": [
    "A = np.array([[1,1], [4,2]])\n",
    "b = np.array([36, 92])\n",
    "x = np.linalg.solve(A,b)\n",
    "print (x)"
   ]
  },
  {
   "cell_type": "markdown",
   "metadata": {},
   "source": [
    "### 100마리 양을 구하는데 10,000,000원\n",
    "### 숫양은 200,000 암양 100,000 어린양 100,000/3\n",
    "### 돈을 다 소진하려면 숫양, 암양, 어린양의 수가 몇이어야 하는가?"
   ]
  },
  {
   "cell_type": "code",
   "execution_count": 60,
   "metadata": {},
   "outputs": [
    {
     "name": "stdout",
     "output_type": "stream",
     "text": [
      "[[array([ 2., 95.]), 3], [array([ 4., 90.]), 6], [array([ 6., 85.]), 9], [array([ 8., 80.]), 12], [array([10., 75.]), 15], [array([12., 70.]), 18], [array([14., 65.]), 21], [array([16., 60.]), 24], [array([18., 55.]), 27], [array([20., 50.]), 30], [array([22., 45.]), 33], [array([24., 40.]), 36], [array([26., 35.]), 39], [array([28., 30.]), 42], [array([30., 25.]), 45], [array([32., 20.]), 48], [array([34., 15.]), 51], [array([36., 10.]), 54], [array([38.,  5.]), 57]]\n"
     ]
    }
   ],
   "source": [
    "# x1 + x2 + x3 = 100\n",
    "# 20*x1 + 10*x2 + 10*x3/3 = 1000\n",
    "\n",
    "group = []\n",
    "for i in range(1,20):\n",
    "    A = np.array([[1,1], [20,10]])\n",
    "    b = np.array([100-3*i,1000-10*i])\n",
    "    x = np.linalg.solve(A,b)\n",
    "    group.append([x,3*i])\n",
    "print (group)\n"
   ]
  },
  {
   "cell_type": "markdown",
   "metadata": {},
   "source": [
    "## 아무개 A씨, 범진 B씨가 있다.\n",
    "## 1. 서로 마주보며 균일한 속도로 걸어오며 100미터 거리를 좁혀오고 있다. 30초가 걸린다.\n",
    "## 2. 서로 똑같은 방향으로 걸어라고 했을 때 아무개 씨가 범진씨를 따라 잡을 때까지 걸리는 시간은 80초다.\n",
    "## 아무개 씨와 범진씨의 속력을 찾아라."
   ]
  },
  {
   "cell_type": "code",
   "execution_count": 62,
   "metadata": {},
   "outputs": [
    {
     "name": "stdout",
     "output_type": "stream",
     "text": [
      "[2.29166667 1.04166667]\n"
     ]
    }
   ],
   "source": [
    "A = np.array([[30,30], [80,-80]])\n",
    "b = np.array([100, 100])\n",
    "x = np.linalg.solve(A,b)\n",
    "print (x)"
   ]
  },
  {
   "cell_type": "code",
   "execution_count": null,
   "metadata": {
    "scrolled": true
   },
   "outputs": [],
   "source": [
    "행렬식 = determinant - 면적을 구하는 연산\n",
    "M by N matrix, M=N determinant가 가능함"
   ]
  },
  {
   "cell_type": "code",
   "execution_count": 69,
   "metadata": {},
   "outputs": [
    {
     "data": {
      "text/plain": [
       "0.0"
      ]
     },
     "execution_count": 69,
     "metadata": {},
     "output_type": "execute_result"
    }
   ],
   "source": [
    "A = np.array([[30,30], [80,80]])\n",
    "np.linalg.det(A)"
   ]
  },
  {
   "cell_type": "code",
   "execution_count": null,
   "metadata": {},
   "outputs": [],
   "source": [
    "#paralellepiped 평행 육면체\n",
    "import matplotlib.pyplot as plt\n",
    "\n",
    "# y 함수 정의\n",
    "def y(x):\n",
    "    return -x + 100/30\n",
    "\n",
    "plt.plot()"
   ]
  },
  {
   "cell_type": "code",
   "execution_count": null,
   "metadata": {},
   "outputs": [],
   "source": [
    "Ainv = np.linalg.inv(A)\n"
   ]
  },
  {
   "cell_type": "code",
   "execution_count": null,
   "metadata": {},
   "outputs": [],
   "source": [
    "# 다음과 같은 벡터가 주어졌을 때\n",
    "u = [1,1]\n",
    "v = [1,-1]\n",
    "\n",
    "# 다음 연산을 충족 시키는 A 행렬을 찾으시오.\n",
    "matmul(A, u) = [3,2]\n",
    "matmul(A, v) = [-1,-2]"
   ]
  },
  {
   "cell_type": "code",
   "execution_count": 70,
   "metadata": {},
   "outputs": [],
   "source": [
    "P = np.array([[1,1],[1,-1]])\n",
    "Q = np.array([[3,-11], [2,-2]])\n",
    "A = np.matmul(Q, np.linalg.inv(P))"
   ]
  },
  {
   "cell_type": "code",
   "execution_count": 71,
   "metadata": {},
   "outputs": [
    {
     "name": "stdout",
     "output_type": "stream",
     "text": [
      "[[-4.  7.]\n",
      " [ 0.  2.]]\n"
     ]
    }
   ],
   "source": [
    "print(A)"
   ]
  },
  {
   "cell_type": "code",
   "execution_count": null,
   "metadata": {},
   "outputs": [],
   "source": []
  }
 ],
 "metadata": {
  "kernelspec": {
   "display_name": "Python 3",
   "language": "python",
   "name": "python3"
  },
  "language_info": {
   "codemirror_mode": {
    "name": "ipython",
    "version": 3
   },
   "file_extension": ".py",
   "mimetype": "text/x-python",
   "name": "python",
   "nbconvert_exporter": "python",
   "pygments_lexer": "ipython3",
   "version": "3.8.5"
  }
 },
 "nbformat": 4,
 "nbformat_minor": 4
}
